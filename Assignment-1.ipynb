{
 "cells": [
  {
   "cell_type": "markdown",
   "metadata": {},
   "source": [
    "# Assignment 1 - CLI, Openpyxl and modules - Anxious Depression"
   ]
  },
  {
   "cell_type": "markdown",
   "metadata": {},
   "source": [
    "## Part 1: Download script\n",
    "\n",
    "Write a program `download_script.py`, which downloads a set of files from the internet. The files to download are given as arguments to your program on the command-line as illustrated in the following:\n",
    "\n",
    "`$ python download_script.py http://www.gutenberg.org/files/2701/2701-0.txt http://www.gutenberg.org/cache/epub/27525/pg27525.txt`\n",
    "  \n",
    "Downloading file to `./2701-0.txt` \n",
    "Downloading file to `./pg27525.txt` \n",
    "Reuse your `webget` module from exercises in 07-Functions and Modules."
   ]
  },
  {
   "cell_type": "code",
   "execution_count": 18,
   "metadata": {},
   "outputs": [],
   "source": [
    "!python download_script.py http://www.gutenberg.org/files/2701/2701-0.txt http://www.gutenberg.org/cache/epub/27525/pg27525.txt"
   ]
  },
  {
   "cell_type": "code",
   "execution_count": 19,
   "metadata": {},
   "outputs": [
    {
     "name": "stdout",
     "output_type": "stream",
     "text": [
      "True\n",
      "True\n"
     ]
    }
   ],
   "source": [
    "from os import path\n",
    "\n",
    "print(path.isfile('./2701-0.txt'))\n",
    "print(path.isfile('./pg27525.txt'))"
   ]
  },
  {
   "cell_type": "markdown",
   "metadata": {},
   "source": [
    "## Part 2: Reading .xlsx files\n",
    "\n",
    "Write a program that converts the Excel spreadsheet `./iris_data.xlsx` into a CSV file with the same data.\n",
    "\n",
    "Start with writing a unit test against which you implement your solution. You are welcome to use a framework for this, but it can also simply be a function that you call with an expected outcome"
   ]
  },
  {
   "cell_type": "code",
   "execution_count": 24,
   "metadata": {},
   "outputs": [],
   "source": [
    "import csv\n",
    "import openpyxl\n",
    "import platform\n",
    "\n",
    "filename = 'iris_data.xlsx'\n",
    "wb = openpyxl.load_workbook(filename)\n",
    "sheet = wb[\"Fisher's Iris Data\"]\n",
    "cvsname = 'iris_data.csv'\n",
    "\n",
    "if platform.system() == 'Windows':\n",
    "    newline=''\n",
    "else:\n",
    "    newline=None\n",
    "    \n",
    "with open(cvsname, 'w', newline=newline) as output_file:\n",
    "    output_writer = csv.writer(output_file)\n",
    "    \n",
    "    for rowOfCellObjects in sheet['A1':'E151']:\n",
    "        ls = []\n",
    "        for cellObj in rowOfCellObjects:\n",
    "            ls.append(cellObj.value)\n",
    "        output_writer.writerow(ls)"
   ]
  },
  {
   "cell_type": "code",
   "execution_count": 30,
   "metadata": {},
   "outputs": [
    {
     "name": "stdout",
     "output_type": "stream",
     "text": [
      "True\n",
      "True\n",
      "True\n"
     ]
    }
   ],
   "source": [
    "import csv\n",
    "\n",
    "f = 'iris_data.csv'\n",
    "data = []\n",
    "\n",
    "with open(f) as file:\n",
    "    reader = csv.reader(file)\n",
    "    header_row = next(reader)\n",
    "    for row in reader:\n",
    "        data.append(row)\n",
    "\n",
    "    print(header_row == ['Sepal length','Sepal width','Petal length','Petal width','Species'])\n",
    "    print(data[0] == ['5.1','3.5','1.4','0.2','I. setosa'])\n",
    "    print(data[-1] == ['5.9','3','5.1','1.8','I. virginica'])"
   ]
  },
  {
   "cell_type": "markdown",
   "metadata": {},
   "source": [
    "## Part 3: Creating a module with data\n",
    "\n",
    "Write a function that reads the `befkbhalderstatkode.csv` file from this url: 'http://data.kk.dk/dataset/76ecf368-bf2d-46a2-bcf8-adaf37662528/resource/9286af17-f74e-46c9-a428-9fb707542189/download/befkbhalderstatkode.csv'\n",
    "\n",
    "The function should return the following `STATISTICS` dictionary:\n",
    "\n",
    "``` python\n",
    "STATISTICS = {\n",
    "      2015: {\n",
    "          1: {\n",
    "              0: {\n",
    "                 5100: 614,\n",
    "                 5104: 2,\n",
    "                 5106: 1,\n",
    "                 ...\n",
    "              },\n",
    "              1: {\n",
    "                  5100: 485,\n",
    "                  5110: 1,\n",
    "                  5115, 1,\n",
    "                  ...\n",
    "              },\n",
    "              2: {\n",
    "                  ...\n",
    "              },\n",
    "              ...\n",
    "          },\n",
    "          2: {\n",
    "              ...\n",
    "          },\n",
    "          3: {\n",
    "              ...\n",
    "          },\n",
    "          ...\n",
    "      },\n",
    "      2014: {\n",
    "          ...\n",
    "      },\n",
    "      ...\n",
    "  }\n",
    "  ```\n",
    "  \n",
    "To be sure that the code is complete and correct, start with writing a unit test, which iterates over the CSV data and checks that the corresponding data exists in the dictionary. Here is an example\n",
    "\n",
    "``` python\n",
    "import kkdata\n",
    "\n",
    "  f = './befkbhalderstatkode.csv'\n",
    "\n",
    "  reader = csv.reader(f)\n",
    "  header_row = next(reader)\n",
    "  for row in reader:\n",
    "      data.append(row)\n",
    "      \n",
    "      assert kkdata.STATISTICS[row[0]][row[1]][row[2]][row[3]] == [row[4]]\n",
    "```"
   ]
  },
  {
   "cell_type": "code",
   "execution_count": null,
   "metadata": {},
   "outputs": [],
   "source": []
  }
 ],
 "metadata": {
  "kernelspec": {
   "display_name": "Python 3",
   "language": "python",
   "name": "python3"
  },
  "language_info": {
   "codemirror_mode": {
    "name": "ipython",
    "version": 3
   },
   "file_extension": ".py",
   "mimetype": "text/x-python",
   "name": "python",
   "nbconvert_exporter": "python",
   "pygments_lexer": "ipython3",
   "version": "3.7.1"
  }
 },
 "nbformat": 4,
 "nbformat_minor": 2
}
